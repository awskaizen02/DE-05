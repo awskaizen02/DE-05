{
 "cells": [
  {
   "cell_type": "code",
   "execution_count": 0,
   "metadata": {
    "application/vnd.databricks.v1+cell": {
     "cellMetadata": {
      "byteLimit": 2048000,
      "rowLimit": 10000
     },
     "inputWidgets": {},
     "nuid": "fba400fa-367d-40f0-be13-66f12ca8c8c8",
     "showTitle": false,
     "tableResultSettingsMap": {},
     "title": ""
    }
   },
   "outputs": [
    {
     "output_type": "stream",
     "name": "stdout",
     "output_type": "stream",
     "text": [
      "+-------------+-----------------+------------+-----+-----+\n|    firstname|         lastname|     country|state|  sal|\n+-------------+-----------------+------------+-----+-----+\n|         raja|           pushpa|         USA|     |30000|\n|        priya|           pushpa|         USA|     |29900|\n|      Karthik|             Subu|         USA|   CA| 6000|\n|        James|Smith            |         USA|   FL|20000|\n|       Martin|            Jones|         USA|   CA| 3000|\n|          Sam| Anderson        |          UK|  LND| 8000|\n|        Maria|          Patrick|          UK|  MCR| 7000|\n|        Robet|            Bevon|          UK|  LND| 3500|\n|        Maria|         Anderson|          UK|  MCR| 3000|\n+-------------+-----------------+------------+-----+-----+\n\n"
     ]
    }
   ],
   "source": [
    "\n",
    "# Create a dataframe from a static list\n",
    "# syntax: spark.createDataFrame(data =  , schema = )\n",
    "\n",
    "from pyspark.sql.types import *\n",
    "\n",
    "\n",
    "staticlist = [(\" raja\", \"pushpa\", \"USA\",\"\",30000),\n",
    "            (\"        priya\", \"     pushpa\", \"USA\",\"\",29900),\n",
    "            (\" Karthik\",       \"Subu\", \"USA\",\"CA\",6000),\n",
    "            (\" James\", \"Smith            \", \"USA\",\"FL\",20000),\n",
    "            (\"Martin\", \"Jones\", \"         USA\",\"CA\",3000),\n",
    "            (\"Sam\", \"Anderson        \", \"UK\",\"LND\",8000),\n",
    "            (\"      Maria\", \"       Patrick\", \"UK\",\"MCR\",7000),\n",
    "            (\"Robet\", \"Bevon\", \"UK\",\"LND\",3500),\n",
    "            (\"Maria\", \"         Anderson\", \"UK\",\"MCR\",3000)\n",
    "            ]\n",
    "columns = [\"firstname\",\"lastname\",\"country\",\"state\",\"sal\"]            \n",
    "df = spark.createDataFrame( data = staticlist, schema = columns)\n",
    "df.show()"
   ]
  },
  {
   "cell_type": "code",
   "execution_count": 0,
   "metadata": {
    "application/vnd.databricks.v1+cell": {
     "cellMetadata": {
      "byteLimit": 2048000,
      "rowLimit": 10000
     },
     "inputWidgets": {},
     "nuid": "6b1b82c0-6065-4f0a-b749-d2878c2f26c2",
     "showTitle": false,
     "tableResultSettingsMap": {},
     "title": ""
    }
   },
   "outputs": [
    {
     "output_type": "stream",
     "name": "stdout",
     "output_type": "stream",
     "text": [
      "root\n |-- firstname: string (nullable = true)\n |-- lastname: string (nullable = true)\n |-- country: string (nullable = true)\n |-- state: string (nullable = true)\n |-- sal: integer (nullable = true)\n\n"
     ]
    }
   ],
   "source": [
    "#changing the datatype of the column\n",
    "\n",
    "# option1: using select method\n",
    "\n",
    "from pyspark.sql.types import *\n",
    "\n",
    "\n",
    "df_cast1 = df.select(\n",
    "    \"firstname\",\n",
    "    \"lastname\",\n",
    "    \"country\",\n",
    "    \"state\",\n",
    "    df.sal.cast(IntegerType())\n",
    ")\n",
    "df_cast1.printSchema()\n"
   ]
  },
  {
   "cell_type": "code",
   "execution_count": 0,
   "metadata": {
    "application/vnd.databricks.v1+cell": {
     "cellMetadata": {
      "byteLimit": 2048000,
      "rowLimit": 10000
     },
     "inputWidgets": {},
     "nuid": "425282bb-470c-4efe-933c-74c0fdf5aaed",
     "showTitle": false,
     "tableResultSettingsMap": {},
     "title": ""
    }
   },
   "outputs": [
    {
     "output_type": "stream",
     "name": "stdout",
     "output_type": "stream",
     "text": [
      "root\n |-- firstname: string (nullable = true)\n |-- lastname: string (nullable = true)\n |-- country: string (nullable = true)\n |-- state: string (nullable = true)\n |-- sal: long (nullable = true)\n |-- bonus: integer (nullable = true)\n\n"
     ]
    }
   ],
   "source": [
    "#option 2 :using the withcolumn method\n",
    "df_cast2 = df.withColumn(\"bonus\",df.sal.cast(IntegerType()))\n",
    "df_cast2.printSchema()\n"
   ]
  },
  {
   "cell_type": "code",
   "execution_count": 0,
   "metadata": {
    "application/vnd.databricks.v1+cell": {
     "cellMetadata": {
      "byteLimit": 2048000,
      "rowLimit": 10000
     },
     "inputWidgets": {},
     "nuid": "a49a4e42-4780-46a6-a6bd-fa4dcc44ce17",
     "showTitle": false,
     "tableResultSettingsMap": {},
     "title": ""
    }
   },
   "outputs": [
    {
     "output_type": "stream",
     "name": "stdout",
     "output_type": "stream",
     "text": [
      "+-------------+-----------------+------------+-----+-----+-----+\n|    firstname|         lastname|     country|state|  sal|Bonus|\n+-------------+-----------------+------------+-----+-----+-----+\n|         raja|           pushpa|         USA|     |30000|60000|\n|        priya|           pushpa|         USA|     |29900|59800|\n|      Karthik|             Subu|         USA|   CA| 6000|12000|\n|        James|Smith            |         USA|   FL|20000|40000|\n|       Martin|            Jones|         USA|   CA| 3000| 6000|\n|          Sam| Anderson        |          UK|  LND| 8000|16000|\n|        Maria|          Patrick|          UK|  MCR| 7000|14000|\n|        Robet|            Bevon|          UK|  LND| 3500| 7000|\n|        Maria|         Anderson|          UK|  MCR| 3000| 6000|\n+-------------+-----------------+------------+-----+-----+-----+\n\n"
     ]
    }
   ],
   "source": [
    "#Adding a new calculated columns using the withcolumn method\n",
    "# add a new bonus column with double the current salary\n",
    "df1 = df.withColumn(\"Bonus\",df.sal*2)\n",
    "df1.show()"
   ]
  },
  {
   "cell_type": "code",
   "execution_count": 0,
   "metadata": {
    "application/vnd.databricks.v1+cell": {
     "cellMetadata": {
      "byteLimit": 2048000,
      "rowLimit": 10000
     },
     "inputWidgets": {},
     "nuid": "b2fb397f-f4d8-4f05-b77b-fbd915227b42",
     "showTitle": false,
     "tableResultSettingsMap": {},
     "title": ""
    }
   },
   "outputs": [],
   "source": [
    "# add a new calculatred column full name, concatenate fir and last name\n",
    "\n",
    "from pyspark.sql.types import *\n",
    "from pyspark.sql.functions import *\n",
    "from pyspark.sql.window import *\n",
    "from delta.tables import *\n"
   ]
  },
  {
   "cell_type": "code",
   "execution_count": 0,
   "metadata": {
    "application/vnd.databricks.v1+cell": {
     "cellMetadata": {
      "byteLimit": 2048000,
      "rowLimit": 10000
     },
     "inputWidgets": {},
     "nuid": "fc593db5-274f-4d07-bda2-7d45e65d118e",
     "showTitle": false,
     "tableResultSettingsMap": {},
     "title": ""
    }
   },
   "outputs": [
    {
     "output_type": "stream",
     "name": "stdout",
     "output_type": "stream",
     "text": [
      "+-------------+-----------------+------------+-----+-----+--------------------+\n|    firstname|         lastname|     country|state|  sal|            FullName|\n+-------------+-----------------+------------+-----+-----+--------------------+\n|         raja|           pushpa|         USA|     |30000|         raja pushpa|\n|        priya|           pushpa|         USA|     |29900|        priya    ...|\n|      Karthik|             Subu|         USA|   CA| 6000|        Karthik Subu|\n|        James|Smith            |         USA|   FL|20000| James Smith     ...|\n|       Martin|            Jones|         USA|   CA| 3000|        Martin Jones|\n|          Sam| Anderson        |          UK|  LND| 8000|Sam Anderson        |\n|        Maria|          Patrick|          UK|  MCR| 7000|      Maria      ...|\n|        Robet|            Bevon|          UK|  LND| 3500|         Robet Bevon|\n|        Maria|         Anderson|          UK|  MCR| 3000|Maria          An...|\n+-------------+-----------------+------------+-----+-----+--------------------+\n\n"
     ]
    }
   ],
   "source": [
    "\n",
    "df1 = df.withColumn(\"FullName\",concat(df.firstname,lit(\" \"),df.lastname))\n",
    "df1.show()"
   ]
  },
  {
   "cell_type": "code",
   "execution_count": 0,
   "metadata": {
    "application/vnd.databricks.v1+cell": {
     "cellMetadata": {
      "byteLimit": 2048000,
      "rowLimit": 10000
     },
     "inputWidgets": {},
     "nuid": "2041be90-2d46-49ab-9c62-f2fa729ea97a",
     "showTitle": false,
     "tableResultSettingsMap": {},
     "title": ""
    }
   },
   "outputs": [
    {
     "output_type": "stream",
     "name": "stdout",
     "output_type": "stream",
     "text": [
      "+-------------+-----------------+------------+-----+-----+---------+\n|    firstname|         lastname|     country|state|  sal|ReportNam|\n+-------------+-----------------+------------+-----+-----+---------+\n|         raja|           pushpa|         USA|     |30000|  Empinfo|\n|        priya|           pushpa|         USA|     |29900|  Empinfo|\n|      Karthik|             Subu|         USA|   CA| 6000|  Empinfo|\n|        James|Smith            |         USA|   FL|20000|  Empinfo|\n|       Martin|            Jones|         USA|   CA| 3000|  Empinfo|\n|          Sam| Anderson        |          UK|  LND| 8000|  Empinfo|\n|        Maria|          Patrick|          UK|  MCR| 7000|  Empinfo|\n|        Robet|            Bevon|          UK|  LND| 3500|  Empinfo|\n|        Maria|         Anderson|          UK|  MCR| 3000|  Empinfo|\n+-------------+-----------------+------------+-----+-----+---------+\n\n"
     ]
    }
   ],
   "source": [
    "# add a static column called reportname and values shoud be \"empinfo\"\n",
    "df1 = df.withColumn(\"ReportNam\",lit(\"Empinfo\"))\n",
    "df1.show()"
   ]
  },
  {
   "cell_type": "code",
   "execution_count": 0,
   "metadata": {
    "application/vnd.databricks.v1+cell": {
     "cellMetadata": {
      "byteLimit": 2048000,
      "rowLimit": 10000
     },
     "inputWidgets": {},
     "nuid": "0a568ab9-3c76-4300-b2ce-1c9948fdba32",
     "showTitle": false,
     "tableResultSettingsMap": {},
     "title": ""
    }
   },
   "outputs": [
    {
     "output_type": "stream",
     "name": "stdout",
     "output_type": "stream",
     "text": [
      "+-------------+-----------------+------------+\n|          F_N|              L_N|          CN|\n+-------------+-----------------+------------+\n|         raja|           pushpa|         USA|\n|        priya|           pushpa|         USA|\n|      Karthik|             Subu|         USA|\n|        James|Smith            |         USA|\n|       Martin|            Jones|         USA|\n|          Sam| Anderson        |          UK|\n|        Maria|          Patrick|          UK|\n|        Robet|            Bevon|          UK|\n|        Maria|         Anderson|          UK|\n+-------------+-----------------+------------+\n\n"
     ]
    }
   ],
   "source": [
    "#rename a column\n",
    "#option 1: using the select method\n",
    "df1 = df.select(df.firstname.alias(\"F_N\"),\n",
    "                df.lastname.alias(\"L_N\"),\n",
    "                df.state,df.country.alias(\"CN\"),df.sal\n",
    "                )\n",
    "df1.show()                "
   ]
  },
  {
   "cell_type": "code",
   "execution_count": 0,
   "metadata": {
    "application/vnd.databricks.v1+cell": {
     "cellMetadata": {
      "byteLimit": 2048000,
      "rowLimit": 10000
     },
     "inputWidgets": {},
     "nuid": "9aa7020b-1914-478a-b1ad-b144a1c05d68",
     "showTitle": false,
     "tableResultSettingsMap": {},
     "title": ""
    }
   },
   "outputs": [
    {
     "output_type": "stream",
     "name": "stdout",
     "output_type": "stream",
     "text": [
      "+-------------+-----------------+------------+-----+-----+\n|          F_N|               LN|     country|state|  sal|\n+-------------+-----------------+------------+-----+-----+\n|         raja|           pushpa|         USA|     |30000|\n|        priya|           pushpa|         USA|     |29900|\n|      Karthik|             Subu|         USA|   CA| 6000|\n|        James|Smith            |         USA|   FL|20000|\n|       Martin|            Jones|         USA|   CA| 3000|\n|          Sam| Anderson        |          UK|  LND| 8000|\n|        Maria|          Patrick|          UK|  MCR| 7000|\n|        Robet|            Bevon|          UK|  LND| 3500|\n|        Maria|         Anderson|          UK|  MCR| 3000|\n+-------------+-----------------+------------+-----+-----+\n\n"
     ]
    }
   ],
   "source": [
    "#option2 using the withcolumn renamed method\n",
    "df1 = df.withColumnRenamed(\"firstname\",\"F_N\")\\\n",
    "        .withColumnRenamed(\"lastname\",\"LN\")\n",
    "df1.show()        "
   ]
  },
  {
   "cell_type": "markdown",
   "metadata": {
    "application/vnd.databricks.v1+cell": {
     "cellMetadata": {},
     "inputWidgets": {},
     "nuid": "d0e82f4f-0f9f-482c-b82f-618a35629467",
     "showTitle": false,
     "tableResultSettingsMap": {},
     "title": ""
    }
   },
   "source": [
    "#FILTER\n",
    "We are selecting the required rows from a dataframe syntax: dataframe.filter(\"\")\n",
    "\n"
   ]
  },
  {
   "cell_type": "code",
   "execution_count": 0,
   "metadata": {
    "application/vnd.databricks.v1+cell": {
     "cellMetadata": {
      "byteLimit": 2048000,
      "rowLimit": 10000
     },
     "inputWidgets": {},
     "nuid": "64557d99-885c-4d4d-94fe-49eeecb11988",
     "showTitle": false,
     "tableResultSettingsMap": {},
     "title": ""
    }
   },
   "outputs": [
    {
     "output_type": "stream",
     "name": "stdout",
     "output_type": "stream",
     "text": [
      "+---------+--------+-------+-----+-----+\n|firstname|lastname|country|state|  sal|\n+---------+--------+-------+-----+-----+\n|     raja|  pushpa|    USA|     |30000|\n|    priya|  pushpa|    USA|     |29900|\n|  Karthik|    Subu|    USA|   CA| 6000|\n|    James|   Smith|    USA|   FL|20000|\n|   Martin|   Jones|    USA|   CA| 3000|\n|      Sam|Anderson|     UK|  LND| 8000|\n|    Maria| Patrick|     UK|  MCR| 7000|\n|    Robet|   Bevon|     UK|  LND| 3500|\n|    Maria|Anderson|     UK|  MCR| 3000|\n+---------+--------+-------+-----+-----+\n\n"
     ]
    }
   ],
   "source": [
    "# https://spark.apache.org/docs/latest/api/python/reference/pyspark.sql/api/pyspark.sql.DataFrame.filter.html\n",
    "\n",
    "from pyspark.sql.types import *\n",
    "staticlist = [(\"raja\", \"pushpa\", \"USA\",\"\",30000),\n",
    "            (\"priya\", \"pushpa\", \"USA\",\"\",29900),\n",
    "            (\"Karthik\", \"Subu\", \"USA\",\"CA\",6000),\n",
    "            (\"James\", \"Smith\", \"USA\",\"FL\",20000),\n",
    "            (\"Martin\", \"Jones\", \"USA\",\"CA\",3000),\n",
    "            (\"Sam\", \"Anderson\", \"UK\",\"LND\",8000),\n",
    "            (\"Maria\", \"Patrick\", \"UK\",\"MCR\",7000),\n",
    "            (\"Robet\", \"Bevon\", \"UK\",\"LND\",3500),\n",
    "            (\"Maria\", \"Anderson\", \"UK\",\"MCR\",3000)\n",
    "            ]\n",
    "columns = [\"firstname\",\"lastname\",\"country\",\"state\",\"sal\"]            \n",
    "df = spark.createDataFrame( data = staticlist, schema = columns)\n",
    "df.show()"
   ]
  },
  {
   "cell_type": "code",
   "execution_count": 0,
   "metadata": {
    "application/vnd.databricks.v1+cell": {
     "cellMetadata": {
      "byteLimit": 2048000,
      "rowLimit": 10000
     },
     "inputWidgets": {},
     "nuid": "2fc32921-8ab9-4ce8-bd1b-5a57aae0dddd",
     "showTitle": false,
     "tableResultSettingsMap": {},
     "title": ""
    }
   },
   "outputs": [
    {
     "output_type": "stream",
     "name": "stdout",
     "output_type": "stream",
     "text": [
      "+---------+--------+-------+-----+-----+\n|firstname|lastname|country|state|  sal|\n+---------+--------+-------+-----+-----+\n|     raja|  pushpa|    USA|     |30000|\n|    priya|  pushpa|    USA|     |29900|\n|    James|   Smith|    USA|   FL|20000|\n|      Sam|Anderson|     UK|  LND| 8000|\n|    Maria| Patrick|     UK|  MCR| 7000|\n+---------+--------+-------+-----+-----+\n\n"
     ]
    }
   ],
   "source": [
    "# place a filter where salary is above 6000 (single column filter)\n",
    "df_filter1 = df.filter(\"sal >6000\")\n",
    "df_filter1.show()"
   ]
  },
  {
   "cell_type": "code",
   "execution_count": 0,
   "metadata": {
    "application/vnd.databricks.v1+cell": {
     "cellMetadata": {
      "byteLimit": 2048000,
      "rowLimit": 10000
     },
     "inputWidgets": {},
     "nuid": "65ff225c-619a-46a8-9dd8-38b978304cda",
     "showTitle": false,
     "tableResultSettingsMap": {},
     "title": ""
    }
   },
   "outputs": [
    {
     "output_type": "stream",
     "name": "stdout",
     "output_type": "stream",
     "text": [
      "+---------+--------+-------+-----+----+\n|firstname|lastname|country|state| sal|\n+---------+--------+-------+-----+----+\n|    Maria| Patrick|     UK|  MCR|7000|\n+---------+--------+-------+-----+----+\n\n"
     ]
    }
   ],
   "source": [
    "#multiple column filters\n",
    "#get employees with salary > 6000 and contry is UK\n",
    "df_filter2 = df.filter(\"sal > 6000 AND country = 'UK' and state = 'MCR' \")\n",
    "df_filter2.show()"
   ]
  },
  {
   "cell_type": "code",
   "execution_count": 0,
   "metadata": {
    "application/vnd.databricks.v1+cell": {
     "cellMetadata": {
      "byteLimit": 2048000,
      "rowLimit": 10000
     },
     "inputWidgets": {},
     "nuid": "b093efb5-6f8f-4444-9eb9-b96923b3fb98",
     "showTitle": false,
     "tableResultSettingsMap": {},
     "title": ""
    }
   },
   "outputs": [
    {
     "output_type": "stream",
     "name": "stdout",
     "output_type": "stream",
     "text": [
      "+---------+--------+-------+-----+-----+\n|firstname|lastname|country|state|  sal|\n+---------+--------+-------+-----+-----+\n|     raja|  pushpa|    USA|     |30000|\n|    priya|  pushpa|    USA|     |29900|\n|      Sam|Anderson|     UK|  LND| 8000|\n|    Maria| Patrick|     UK|  MCR| 7000|\n|    Robet|   Bevon|     UK|  LND| 3500|\n+---------+--------+-------+-----+-----+\n\n"
     ]
    }
   ],
   "source": [
    "# Multiple columns and multiple conditions\n",
    "# if country is USA then salary > 6000, if country is not USA then salary > 3000\n",
    "\n",
    "df_filter3 = df.filter( \n",
    "                       ((df.country == \"USA\") & (df.sal > 20000))\n",
    "                     |\n",
    "                       ((df.country != \"USA\") & (df.sal > 3000))\n",
    ")\n",
    "\n",
    "df_filter3.show()\n"
   ]
  },
  {
   "cell_type": "markdown",
   "metadata": {
    "application/vnd.databricks.v1+cell": {
     "cellMetadata": {},
     "inputWidgets": {},
     "nuid": "3fac5c34-d1ab-4b36-90a0-62c52ae3c93e",
     "showTitle": false,
     "tableResultSettingsMap": {},
     "title": ""
    }
   },
   "source": [
    "#String\n"
   ]
  },
  {
   "cell_type": "markdown",
   "metadata": {
    "application/vnd.databricks.v1+cell": {
     "cellMetadata": {},
     "inputWidgets": {},
     "nuid": "0c3415fa-c764-4ece-8980-dfdfdb21e99b",
     "showTitle": false,
     "tableResultSettingsMap": {},
     "title": ""
    }
   },
   "source": [
    "##"
   ]
  },
  {
   "cell_type": "code",
   "execution_count": 0,
   "metadata": {
    "application/vnd.databricks.v1+cell": {
     "cellMetadata": {
      "byteLimit": 2048000,
      "rowLimit": 10000
     },
     "inputWidgets": {},
     "nuid": "572eb33c-99a0-45f8-a2f8-6f18da96cc5f",
     "showTitle": false,
     "tableResultSettingsMap": {},
     "title": ""
    }
   },
   "outputs": [
    {
     "output_type": "stream",
     "name": "stdout",
     "output_type": "stream",
     "text": [
      "+---------+--------+-------+-----+-----+---------+---------+---------+\n|firstname|lastname|country|state|  sal|UpperCase|LowerCase|TitleCase|\n+---------+--------+-------+-----+-----+---------+---------+---------+\n|     raja|  pushpa|    USA|     |30000|     RAJA|     raja|     Raja|\n|    priya|  pushpa|    USA|     |29900|    PRIYA|    priya|    Priya|\n|  Karthik|    Subu|    USA|   CA| 6000|  KARTHIK|  karthik|  Karthik|\n|    James|   Smith|    USA|   FL|20000|    JAMES|    james|    James|\n|   Martin|   Jones|    USA|   CA| 3000|   MARTIN|   martin|   Martin|\n|      Sam|Anderson|     UK|  LND| 8000|      SAM|      sam|      Sam|\n|    Maria| Patrick|     UK|  MCR| 7000|    MARIA|    maria|    Maria|\n|    Robet|   Bevon|     UK|  LND| 3500|    ROBET|    robet|    Robet|\n|    Maria|Anderson|     UK|  MCR| 3000|    MARIA|    maria|    Maria|\n+---------+--------+-------+-----+-----+---------+---------+---------+\n\n"
     ]
    }
   ],
   "source": [
    "# get the upper case, lower case and title case for any sting\n",
    "# you can apply these functions inside the withcolumn method to apply the required transformations\n",
    "\n",
    "df2 = df.withColumn(\"UpperCase\",upper(\"firstname\"))\\\n",
    "        .withColumn(\"LowerCase\",lower(\"firstname\"))\\\n",
    "        .withColumn(\"TitleCase\",initcap(\"firstname\"))    \n",
    "df2.show()        \n"
   ]
  },
  {
   "cell_type": "code",
   "execution_count": 0,
   "metadata": {
    "application/vnd.databricks.v1+cell": {
     "cellMetadata": {
      "byteLimit": 2048000,
      "rowLimit": 10000
     },
     "inputWidgets": {},
     "nuid": "4f3f9435-1214-472e-b3c1-1a353dd6ed9a",
     "showTitle": false,
     "tableResultSettingsMap": {},
     "title": ""
    }
   },
   "outputs": [
    {
     "output_type": "stream",
     "name": "stdout",
     "output_type": "stream",
     "text": [
      "+---------+--------+-------+-----+-----+--------------+\n|firstname|lastname|country|state|  sal|     Full_Name|\n+---------+--------+-------+-----+-----+--------------+\n|     raja|  pushpa|    USA|     |30000|   Raja Pushpa|\n|    priya|  pushpa|    USA|     |29900|  Priya Pushpa|\n|  Karthik|    Subu|    USA|   CA| 6000|  Karthik Subu|\n|    James|   Smith|    USA|   FL|20000|   James Smith|\n|   Martin|   Jones|    USA|   CA| 3000|  Martin Jones|\n|      Sam|Anderson|     UK|  LND| 8000|  Sam Anderson|\n|    Maria| Patrick|     UK|  MCR| 7000| Maria Patrick|\n|    Robet|   Bevon|     UK|  LND| 3500|   Robet Bevon|\n|    Maria|Anderson|     UK|  MCR| 3000|Maria Anderson|\n+---------+--------+-------+-----+-----+--------------+\n\n"
     ]
    }
   ],
   "source": [
    "# cancat firstname and lastname to create a fullname\n",
    "# concat (\"col1\",\"col2\",\"col3\")\n",
    "df2 = df.withColumn(\"Full_Name\",concat(initcap(\"firstname\"),lit(\" \"),(initcap(\"lastname\"))))\n",
    "df2.show()"
   ]
  },
  {
   "cell_type": "code",
   "execution_count": 0,
   "metadata": {
    "application/vnd.databricks.v1+cell": {
     "cellMetadata": {
      "byteLimit": 2048000,
      "rowLimit": 10000
     },
     "inputWidgets": {},
     "nuid": "db116a2d-89f5-4a83-9d68-d0765dc7829d",
     "showTitle": false,
     "tableResultSettingsMap": {},
     "title": ""
    }
   },
   "outputs": [
    {
     "output_type": "stream",
     "name": "stdout",
     "output_type": "stream",
     "text": [
      "+---------+--------+-------+-----+-----+--------+\n|firstname|lastname|country|state|  sal|Tversion|\n+---------+--------+-------+-----+-----+--------+\n|     raja|  pushpa|    USA|     |30000|  pushpa|\n|    priya|  pushpa|    USA|     |29900|  pushpa|\n|  Karthik|    Subu|    USA|   CA| 6000|    Subu|\n|    James|   Smith|    USA|   FL|20000|   Smith|\n|   Martin|   Jones|    USA|   CA| 3000|   Jones|\n|      Sam|Anderson|     UK|  LND| 8000|Anderson|\n|    Maria| Patrick|     UK|  MCR| 7000| Patrick|\n|    Robet|   Bevon|     UK|  LND| 3500|   Bevon|\n|    Maria|Anderson|     UK|  MCR| 3000|Anderson|\n+---------+--------+-------+-----+-----+--------+\n\n"
     ]
    }
   ],
   "source": [
    "#removing leading and trailing spaces\n",
    "#TRIM function will remove leading and trailing spaces from any string\n",
    "df3 = df.withColumn(\"Tversion\",trim(\"lastname\"))\n",
    "df3.show()"
   ]
  },
  {
   "cell_type": "code",
   "execution_count": 0,
   "metadata": {
    "application/vnd.databricks.v1+cell": {
     "cellMetadata": {
      "byteLimit": 2048000,
      "rowLimit": 10000
     },
     "inputWidgets": {},
     "nuid": "53a39c3c-19b2-443f-a7b7-87acd77b6d2f",
     "showTitle": false,
     "tableResultSettingsMap": {},
     "title": ""
    }
   },
   "outputs": [
    {
     "output_type": "stream",
     "name": "stdout",
     "output_type": "stream",
     "text": [
      "+---------+--------+-------+-----+-----+--------------+-------------+------------+----------------+------------+\n|firstname|lastname|country|state|  sal|     Full_name|First4letters|Last4letters|3rd_pos_4letters| 3rd_to_last|\n+---------+--------+-------+-----+-----+--------------+-------------+------------+----------------+------------+\n|     raja|  pushpa|    USA|     |30000|   Raja Pushpa|         Raja|        shpa|            ja P|   ja Pushpa|\n|    priya|  pushpa|    USA|     |29900|  Priya Pushpa|         Priy|        shpa|            iya |  iya Pushpa|\n|  Karthik|    Subu|    USA|   CA| 6000|  Karthik Subu|         Kart|        Subu|            rthi|  rthik Subu|\n|    James|   Smith|    USA|   FL|20000|   James Smith|         Jame|        mith|            mes |   mes Smith|\n|   Martin|   Jones|    USA|   CA| 3000|  Martin Jones|         Mart|        ones|            rtin|  rtin Jones|\n|      Sam|Anderson|     UK|  LND| 8000|  Sam Anderson|         Sam |        rson|            m An|  m Anderson|\n|    Maria| Patrick|     UK|  MCR| 7000| Maria Patrick|         Mari|        rick|            ria | ria Patrick|\n|    Robet|   Bevon|     UK|  LND| 3500|   Robet Bevon|         Robe|        evon|            bet |   bet Bevon|\n|    Maria|Anderson|     UK|  MCR| 3000|Maria Anderson|         Mari|        rson|            ria |ria Anderson|\n+---------+--------+-------+-----+-----+--------------+-------------+------------+----------------+------------+\n\n"
     ]
    }
   ],
   "source": [
    "#get the left ,right and midle values of any given string\n",
    "#syntax: substring(\"<colname>\",<Starting_position>,<lenght_of_string>)\n",
    "df4 =df.withColumn(\"Full_name\",trim(concat(initcap(\"firstname\"),lit(\" \"),initcap(\"lastname\"))))\n",
    "df5 = df4.withColumn(\"First4letters\",substring(\"Full_name\",0,4))\\\n",
    "         .withColumn(\"Last4letters\",substring(\"Full_name\",-4,4))\\\n",
    "         .withColumn(\"3rd_pos_4letters\",substring(\"Full_name\",3,4))\\\n",
    "          .withColumn(\"3rd_to_last\",substring(\"Full_name\",3,12))\n",
    "df5.show()         "
   ]
  }
 ],
 "metadata": {
  "application/vnd.databricks.v1+notebook": {
   "computePreferences": null,
   "dashboards": [],
   "environmentMetadata": {
    "base_environment": "",
    "environment_version": "2"
   },
   "inputWidgetPreferences": null,
   "language": "python",
   "notebookMetadata": {
    "pythonIndentUnit": 4
   },
   "notebookName": "Untitled Notebook 2025-07-08 11:33:28",
   "widgets": {}
  },
  "language_info": {
   "name": "python"
  }
 },
 "nbformat": 4,
 "nbformat_minor": 0
}