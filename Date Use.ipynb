{
 "cells": [
  {
   "cell_type": "code",
   "execution_count": 0,
   "metadata": {
    "application/vnd.databricks.v1+cell": {
     "cellMetadata": {
      "byteLimit": 2048000,
      "rowLimit": 10000
     },
     "inputWidgets": {},
     "nuid": "2aaa7bdc-c00b-4fb5-8684-71ff108e2a79",
     "showTitle": false,
     "tableResultSettingsMap": {},
     "title": ""
    }
   },
   "outputs": [
    {
     "output_type": "stream",
     "name": "stdout",
     "output_type": "stream",
     "text": [
      "+----------+------+\n|      Date| Sales|\n+----------+------+\n|2024-01-01| 900.0|\n|2024-02-02|1100.0|\n|2024-03-03| 950.0|\n|2024-04-04|1200.0|\n|2024-06-05|1050.0|\n|2024-06-06|1000.0|\n|2024-08-07|1300.0|\n|2024-09-08|1150.0|\n|2024-10-09|1000.0|\n|2024-05-10|1400.0|\n|2024-12-11|1200.0|\n|2024-11-12|1100.0|\n|2024-06-13|1350.0|\n|2024-06-14|1250.0|\n|2024-07-15|1100.0|\n|2024-12-16|1400.0|\n|2024-03-17|1300.0|\n|2024-03-18|1200.0|\n|2024-08-19|1450.0|\n|2024-09-20|1600.0|\n|2025-02-01|1300.0|\n|2025-02-02|1500.0|\n|2025-02-03|1200.0|\n|2025-02-04|1700.0|\n|2025-02-05|1600.0|\n|2025-02-06|1800.0|\n|2025-02-07|2000.0|\n|2025-02-08|1900.0|\n|2025-02-09|2100.0|\n|2025-02-10|2200.0|\n+----------+------+\nonly showing top 30 rows\n"
     ]
    }
   ],
   "source": [
    "data = [\n",
    "    (\"2024-01-01\", 900.00),\n",
    "    (\"2024-02-02\", 1100.00),\n",
    "    (\"2024-03-03\", 950.00),\n",
    "    (\"2024-04-04\", 1200.00),\n",
    "    (\"2024-06-05\", 1050.00),\n",
    "    (\"2024-06-06\", 1000.00),\n",
    "    (\"2024-08-07\", 1300.00),\n",
    "    (\"2024-09-08\", 1150.00),\n",
    "    (\"2024-10-09\", 1000.00),\n",
    "    (\"2024-05-10\", 1400.00),\n",
    "    (\"2024-12-11\", 1200.00),\n",
    "    (\"2024-11-12\", 1100.00),\n",
    "    (\"2024-06-13\", 1350.00),\n",
    "    (\"2024-06-14\", 1250.00),\n",
    "    (\"2024-07-15\", 1100.00),\n",
    "    (\"2024-12-16\", 1400.00),\n",
    "    (\"2024-03-17\", 1300.00),\n",
    "    (\"2024-03-18\", 1200.00),\n",
    "    (\"2024-08-19\", 1450.00),\n",
    "    (\"2024-09-20\", 1600.00),\n",
    "    (\"2025-02-01\", 1300.00),\n",
    "    (\"2025-02-02\", 1500.00),\n",
    "    (\"2025-02-03\", 1200.00),\n",
    "    (\"2025-02-04\", 1700.00),\n",
    "    (\"2025-02-05\", 1600.00),\n",
    "    (\"2025-02-06\", 1800.00),\n",
    "    (\"2025-02-07\", 2000.00),\n",
    "    (\"2025-02-08\", 1900.00),\n",
    "    (\"2025-02-09\", 2100.00),\n",
    "    (\"2025-02-10\", 2200.00),\n",
    "    (\"2025-06-01\", 1000.00),\n",
    "    (\"2025-06-02\", 1200.00),\n",
    "    (\"2025-06-03\", 800.00),\n",
    "    (\"2025-06-04\", 1500.00),\n",
    "    (\"2025-06-05\", 1300.00),\n",
    "    (\"2025-06-06\", 1100.00),\n",
    "    (\"2025-06-07\", 1400.00),\n",
    "    (\"2025-06-08\", 1600.00),\n",
    "    (\"2025-06-09\", 1800.00),\n",
    "    (\"2025-06-10\", 2000.00)\n",
    "]\n",
    "\n",
    "columns = ['Date','Sales']\n",
    "df = spark.createDataFrame(data = data, schema = columns)\n",
    "df.show(30)"
   ]
  },
  {
   "cell_type": "code",
   "execution_count": 0,
   "metadata": {
    "application/vnd.databricks.v1+cell": {
     "cellMetadata": {
      "byteLimit": 2048000,
      "rowLimit": 10000
     },
     "inputWidgets": {},
     "nuid": "113019b4-a768-40a1-9b7e-ee7743af95c9",
     "showTitle": false,
     "tableResultSettingsMap": {},
     "title": ""
    }
   },
   "outputs": [
    {
     "output_type": "stream",
     "name": "stdout",
     "output_type": "stream",
     "text": [
      "+----+----------+\n|year|TotalSales|\n+----+----------+\n|2024|   24000.0|\n|2025|   31000.0|\n+----+----------+\n\n"
     ]
    }
   ],
   "source": [
    "# group the sum of sales by year\n",
    "\n",
    "from pyspark.sql.functions import *\n",
    "\n",
    "df1 = df.withColumn(\"Year\",year(\"Date\"))\n",
    "df2 = df1.groupBy(\"year\").sum(\"Sales\")\n",
    "df2 = df2.withColumnRenamed(\"sum(Sales)\",\"TotalSales\")\n",
    "df2.show()"
   ]
  },
  {
   "cell_type": "code",
   "execution_count": 0,
   "metadata": {
    "application/vnd.databricks.v1+cell": {
     "cellMetadata": {
      "byteLimit": 2048000,
      "rowLimit": 10000
     },
     "inputWidgets": {},
     "nuid": "18e68635-58ad-40f4-996d-062447a38b1a",
     "showTitle": false,
     "tableResultSettingsMap": {},
     "title": ""
    }
   },
   "outputs": [
    {
     "output_type": "stream",
     "name": "stdout",
     "output_type": "stream",
     "text": [
      "+----+-----+----------+\n|year|month|TotalSales|\n+----+-----+----------+\n|2024|    3|    3450.0|\n|2024|    6|    4650.0|\n|2024|    2|    1100.0|\n|2024|    4|    1200.0|\n|2024|    1|     900.0|\n|2024|    8|    2750.0|\n|2024|    5|    1400.0|\n|2024|    9|    2750.0|\n|2024|   10|    1000.0|\n|2024|   12|    2600.0|\n|2024|    7|    1100.0|\n|2024|   11|    1100.0|\n|2025|    2|   17300.0|\n|2025|    6|   13700.0|\n+----+-----+----------+\n\n"
     ]
    }
   ],
   "source": [
    "#get the sum of sales by month and year of date\n",
    "df1 = df.withColumn(\"year\",year(\"Date\"))\\\n",
    ".withColumn(\"month\",month(\"Date\"))\n",
    "df2 = df1.groupBy(\"year\",\"month\").sum(\"Sales\")\n",
    "df2 = df2.withColumnRenamed(\"sum(Sales)\",\"TotalSales\")\n",
    "df2.show()"
   ]
  },
  {
   "cell_type": "code",
   "execution_count": 0,
   "metadata": {
    "application/vnd.databricks.v1+cell": {
     "cellMetadata": {
      "byteLimit": 2048000,
      "rowLimit": 10000
     },
     "inputWidgets": {},
     "nuid": "a6613448-7657-4a3e-992d-5003584a2357",
     "showTitle": false,
     "tableResultSettingsMap": {},
     "title": ""
    }
   },
   "outputs": [
    {
     "output_type": "stream",
     "name": "stdout",
     "output_type": "stream",
     "text": [
      "+----------+------+-------------------+----------+\n|      Date| Sales|         year_start|     Today|\n+----------+------+-------------------+----------+\n|2025-02-01|1300.0|2025-01-01 00:00:00|2025-07-16|\n|2025-02-02|1500.0|2025-01-01 00:00:00|2025-07-16|\n|2025-02-03|1200.0|2025-01-01 00:00:00|2025-07-16|\n|2025-02-04|1700.0|2025-01-01 00:00:00|2025-07-16|\n|2025-02-05|1600.0|2025-01-01 00:00:00|2025-07-16|\n|2025-02-06|1800.0|2025-01-01 00:00:00|2025-07-16|\n|2025-02-07|2000.0|2025-01-01 00:00:00|2025-07-16|\n|2025-02-08|1900.0|2025-01-01 00:00:00|2025-07-16|\n|2025-02-09|2100.0|2025-01-01 00:00:00|2025-07-16|\n|2025-02-10|2200.0|2025-01-01 00:00:00|2025-07-16|\n|2025-06-01|1000.0|2025-01-01 00:00:00|2025-07-16|\n|2025-06-02|1200.0|2025-01-01 00:00:00|2025-07-16|\n|2025-06-03| 800.0|2025-01-01 00:00:00|2025-07-16|\n|2025-06-04|1500.0|2025-01-01 00:00:00|2025-07-16|\n|2025-06-05|1300.0|2025-01-01 00:00:00|2025-07-16|\n|2025-06-06|1100.0|2025-01-01 00:00:00|2025-07-16|\n|2025-06-07|1400.0|2025-01-01 00:00:00|2025-07-16|\n|2025-06-08|1600.0|2025-01-01 00:00:00|2025-07-16|\n|2025-06-09|1800.0|2025-01-01 00:00:00|2025-07-16|\n|2025-06-10|2000.0|2025-01-01 00:00:00|2025-07-16|\n+----------+------+-------------------+----------+\n\n"
     ]
    }
   ],
   "source": [
    "#get the YTD sales\n",
    "#year to date = start of the current year to current date\n",
    "df2 = df.withColumn(\"year_start\",date_trunc('yyyy',current_date()))\\\n",
    "    .withColumn(\"Today\",current_date())\n",
    "df2 = df2.filter(\"Date >= year_start and Date <= Today\")    \n",
    "df2.show()"
   ]
  },
  {
   "cell_type": "code",
   "execution_count": 0,
   "metadata": {
    "application/vnd.databricks.v1+cell": {
     "cellMetadata": {
      "byteLimit": 2048000,
      "rowLimit": 10000
     },
     "inputWidgets": {},
     "nuid": "c008ee10-3672-4fa5-b8eb-bbbf8926ad41",
     "showTitle": false,
     "tableResultSettingsMap": {},
     "title": ""
    }
   },
   "outputs": [
    {
     "output_type": "stream",
     "name": "stdout",
     "output_type": "stream",
     "text": [
      "+----------+------+--------------------+-------------------+\n|      Date| Sales|         CurrentTime|          Add2Hours|\n+----------+------+--------------------+-------------------+\n|2024-01-01| 900.0|2025-07-16 05:57:...|2025-07-16 07:57:27|\n|2024-02-02|1100.0|2025-07-16 05:57:...|2025-07-16 07:57:27|\n|2024-03-03| 950.0|2025-07-16 05:57:...|2025-07-16 07:57:27|\n|2024-04-04|1200.0|2025-07-16 05:57:...|2025-07-16 07:57:27|\n|2024-06-05|1050.0|2025-07-16 05:57:...|2025-07-16 07:57:27|\n|2024-06-06|1000.0|2025-07-16 05:57:...|2025-07-16 07:57:27|\n|2024-08-07|1300.0|2025-07-16 05:57:...|2025-07-16 07:57:27|\n|2024-09-08|1150.0|2025-07-16 05:57:...|2025-07-16 07:57:27|\n|2024-10-09|1000.0|2025-07-16 05:57:...|2025-07-16 07:57:27|\n|2024-05-10|1400.0|2025-07-16 05:57:...|2025-07-16 07:57:27|\n|2024-12-11|1200.0|2025-07-16 05:57:...|2025-07-16 07:57:27|\n|2024-11-12|1100.0|2025-07-16 05:57:...|2025-07-16 07:57:27|\n|2024-06-13|1350.0|2025-07-16 05:57:...|2025-07-16 07:57:27|\n|2024-06-14|1250.0|2025-07-16 05:57:...|2025-07-16 07:57:27|\n|2024-07-15|1100.0|2025-07-16 05:57:...|2025-07-16 07:57:27|\n|2024-12-16|1400.0|2025-07-16 05:57:...|2025-07-16 07:57:27|\n|2024-03-17|1300.0|2025-07-16 05:57:...|2025-07-16 07:57:27|\n|2024-03-18|1200.0|2025-07-16 05:57:...|2025-07-16 07:57:27|\n|2024-08-19|1450.0|2025-07-16 05:57:...|2025-07-16 07:57:27|\n|2024-09-20|1600.0|2025-07-16 05:57:...|2025-07-16 07:57:27|\n+----------+------+--------------------+-------------------+\nonly showing top 20 rows\n"
     ]
    }
   ],
   "source": [
    "#add 2 hours to the current time\n",
    "df2 = df.withColumn(\"CurrentTime\",current_timestamp())\n",
    "df3 = df2.withColumn(\"Add2Hours\", from_unixtime(unix_timestamp(col(\"CurrentTime\")) + 2 *3600 ))\n",
    "df3.show()"
   ]
  },
  {
   "cell_type": "code",
   "execution_count": 0,
   "metadata": {
    "application/vnd.databricks.v1+cell": {
     "cellMetadata": {
      "byteLimit": 2048000,
      "rowLimit": 10000
     },
     "inputWidgets": {},
     "nuid": "6ae6f395-e858-46f0-875e-785788a20382",
     "showTitle": false,
     "tableResultSettingsMap": {},
     "title": ""
    }
   },
   "outputs": [
    {
     "output_type": "stream",
     "name": "stdout",
     "output_type": "stream",
     "text": [
      "+----------+------+--------------------+--------------------+\n|      Date| Sales|         CurrentTime|             Add2Hrs|\n+----------+------+--------------------+--------------------+\n|2024-01-01| 900.0|2025-07-16 06:01:...|2025-07-16 08:31:...|\n|2024-02-02|1100.0|2025-07-16 06:01:...|2025-07-16 08:31:...|\n|2024-03-03| 950.0|2025-07-16 06:01:...|2025-07-16 08:31:...|\n|2024-04-04|1200.0|2025-07-16 06:01:...|2025-07-16 08:31:...|\n|2024-06-05|1050.0|2025-07-16 06:01:...|2025-07-16 08:31:...|\n|2024-06-06|1000.0|2025-07-16 06:01:...|2025-07-16 08:31:...|\n|2024-08-07|1300.0|2025-07-16 06:01:...|2025-07-16 08:31:...|\n|2024-09-08|1150.0|2025-07-16 06:01:...|2025-07-16 08:31:...|\n|2024-10-09|1000.0|2025-07-16 06:01:...|2025-07-16 08:31:...|\n|2024-05-10|1400.0|2025-07-16 06:01:...|2025-07-16 08:31:...|\n|2024-12-11|1200.0|2025-07-16 06:01:...|2025-07-16 08:31:...|\n|2024-11-12|1100.0|2025-07-16 06:01:...|2025-07-16 08:31:...|\n|2024-06-13|1350.0|2025-07-16 06:01:...|2025-07-16 08:31:...|\n|2024-06-14|1250.0|2025-07-16 06:01:...|2025-07-16 08:31:...|\n|2024-07-15|1100.0|2025-07-16 06:01:...|2025-07-16 08:31:...|\n|2024-12-16|1400.0|2025-07-16 06:01:...|2025-07-16 08:31:...|\n|2024-03-17|1300.0|2025-07-16 06:01:...|2025-07-16 08:31:...|\n|2024-03-18|1200.0|2025-07-16 06:01:...|2025-07-16 08:31:...|\n|2024-08-19|1450.0|2025-07-16 06:01:...|2025-07-16 08:31:...|\n|2024-09-20|1600.0|2025-07-16 06:01:...|2025-07-16 08:31:...|\n+----------+------+--------------------+--------------------+\nonly showing top 20 rows\n"
     ]
    }
   ],
   "source": [
    "# add 2:30:10 hours to the current time\n",
    "\n",
    "df2 = df.withColumn(\"CurrentTime\",current_timestamp())\n",
    "df3 = df2.withColumn(\"Add2Hrs\",expr(\"CurrentTime + INTERVAL 2 hours + INTERVAL 30 minutes + INTERVAL 10 seconds\"))\n",
    "df3.show()"
   ]
  },
  {
   "cell_type": "code",
   "execution_count": 0,
   "metadata": {
    "application/vnd.databricks.v1+cell": {
     "cellMetadata": {
      "byteLimit": 2048000,
      "rowLimit": 10000
     },
     "inputWidgets": {},
     "nuid": "62dae15b-d16e-436a-b78f-97863fc2b256",
     "showTitle": false,
     "tableResultSettingsMap": {},
     "title": ""
    }
   },
   "outputs": [
    {
     "output_type": "stream",
     "name": "stdout",
     "output_type": "stream",
     "text": [
      "10541480\n10541480\n10541480\n281106463076208\n281104712413808\n"
     ]
    }
   ],
   "source": [
    "x = 124\n",
    "y = x\n",
    "z = 124\n",
    "a = 'hello'\n",
    "b = '2025-07-16'\n",
    "print(id(x))\n",
    "print(id(y))\n",
    "print(id(z))\n",
    "print(id(a))\n",
    "print(id(b))"
   ]
  },
  {
   "cell_type": "code",
   "execution_count": 0,
   "metadata": {
    "application/vnd.databricks.v1+cell": {
     "cellMetadata": {
      "byteLimit": 2048000,
      "rowLimit": 10000
     },
     "inputWidgets": {},
     "nuid": "5bd3a734-e149-41b2-86bf-f43634a4fa11",
     "showTitle": false,
     "tableResultSettingsMap": {},
     "title": ""
    }
   },
   "outputs": [
    {
     "output_type": "stream",
     "name": "stderr",
     "output_type": "stream",
     "text": [
      "/databricks/python/lib/python3.11/site-packages/pyspark/sql/connect/expressions.py:1017: UserWarning: WARN WindowExpression: No Partition Defined for Window operation! Moving all data to a single partition, this can cause serious performance degradation.\n  warnings.warn(\n"
     ]
    },
    {
     "output_type": "stream",
     "name": "stdout",
     "output_type": "stream",
     "text": [
      "+----+-----+----------+--------------------+--------------+\n|year|month|TotalSales|Previous_month_sales|Month_of_sales|\n+----+-----+----------+--------------------+--------------+\n|2024|    1|     900.0|                NULL|          NULL|\n|2024|    2|    1100.0|               900.0|         200.0|\n|2024|    3|    3450.0|              1100.0|        2350.0|\n|2024|    4|    1200.0|              3450.0|       -2250.0|\n|2024|    5|    1400.0|              1200.0|         200.0|\n|2024|    6|    4650.0|              1400.0|        3250.0|\n|2024|    7|    1100.0|              4650.0|       -3550.0|\n|2024|    8|    2750.0|              1100.0|        1650.0|\n|2024|    9|    2750.0|              2750.0|           0.0|\n|2024|   10|    1000.0|              2750.0|       -1750.0|\n|2024|   11|    1100.0|              1000.0|         100.0|\n|2024|   12|    2600.0|              1100.0|        1500.0|\n|2025|    2|   17300.0|              2600.0|       14700.0|\n|2025|    6|   13700.0|             17300.0|       -3600.0|\n+----+-----+----------+--------------------+--------------+\n\n"
     ]
    }
   ],
   "source": [
    "#get the sum of sales by month and year of date\n",
    "from pyspark.sql.functions import *\n",
    "from pyspark.sql.window import *\n",
    "df1 = df.withColumn(\"year\",year(\"Date\"))\\\n",
    ".withColumn(\"month\",month(\"Date\"))\n",
    "df2 = df1.groupBy(\"year\",\"month\").sum(\"Sales\")\n",
    "df2 = df2.withColumnRenamed(\"sum(Sales)\",\"TotalSales\")\n",
    "df2 = df2.orderBy(\"Year\",\"month\")\n",
    "window_partition = Window.orderBy(\"Year\",\"month\")\n",
    "df_3 = df2.withColumn(\"Previous_month_sales\",lag(\"TotalSales\",1).over(window_partition))\n",
    "df_3 = df_3.withColumn(\"Month_of_sales\",df_3.TotalSales - df_3.Previous_month_sales)\n",
    "\n",
    "df_3.show()                                                          "
   ]
  }
 ],
 "metadata": {
  "application/vnd.databricks.v1+notebook": {
   "computePreferences": null,
   "dashboards": [],
   "environmentMetadata": {
    "base_environment": "",
    "environment_version": "2"
   },
   "inputWidgetPreferences": null,
   "language": "python",
   "notebookMetadata": {
    "pythonIndentUnit": 4
   },
   "notebookName": "Date Use",
   "widgets": {}
  },
  "language_info": {
   "name": "python"
  }
 },
 "nbformat": 4,
 "nbformat_minor": 0
}