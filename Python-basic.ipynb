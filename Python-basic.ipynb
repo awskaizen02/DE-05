{
 "cells": [
  {
   "cell_type": "code",
   "execution_count": 0,
   "metadata": {
    "application/vnd.databricks.v1+cell": {
     "cellMetadata": {},
     "inputWidgets": {},
     "nuid": "2e214b61-5cd4-4480-8746-0791498c2d21",
     "showTitle": false,
     "tableResultSettingsMap": {},
     "title": ""
    }
   },
   "outputs": [],
   "source": [
    "# https://community.cloud.databricks.com\n",
    "\n",
    "\n",
    "//** Python is a high-level, versatile programming language known for its readability and ease of use. \n",
    "It's widely used in web development, data science, machine learning, and more, due to its clear syntax and extensive libraries.\n",
    "python is a free opensource\n",
    "support different platfoem like windows,linux,mac,etc..\n",
    "object oriented,structural porogramming and functional programming\n",
    "python has large libraries which canbe used instead of developing the code from scratch\n",
    "has huge community base and you can get solutions through the community very easily \n",
    "\n",
    "variables:\n",
    "\tVariables are containers for storing data values.\n",
    "\tvariables can be changed on assingment or dynamically using the program\n",
    "\tvariables allows any values and you can assin the variable value using equal symbol\n",
    "** \\\\\n",
    "x=5\n",
    "print(x)\n",
    "\n",
    "# https://www.w3schools.com/python/python_ref_keywords.asp\n",
    "\n",
    "# https://media.geeksforgeeks.org/wp-content/uploads/20241210131752166623/Python-Data-Types.webp\n",
    " \n"
   ]
  },
  {
   "cell_type": "code",
   "execution_count": 0,
   "metadata": {
    "application/vnd.databricks.v1+cell": {
     "cellMetadata": {
      "byteLimit": 2048000,
      "rowLimit": 10000
     },
     "inputWidgets": {},
     "nuid": "7e1dd1af-3d90-42dd-b069-c82440a8eeed",
     "showTitle": false,
     "tableResultSettingsMap": {},
     "title": ""
    }
   },
   "outputs": [
    {
     "output_type": "stream",
     "name": "stdout",
     "output_type": "stream",
     "text": [
      "2\n"
     ]
    }
   ],
   "source": [
    "x = 2\n",
    "\n",
    "print(x)"
   ]
  },
  {
   "cell_type": "code",
   "execution_count": 0,
   "metadata": {
    "application/vnd.databricks.v1+cell": {
     "cellMetadata": {
      "byteLimit": 2048000,
      "rowLimit": 10000
     },
     "inputWidgets": {},
     "nuid": "4f1f01c8-41d6-4d65-9b46-15fffdecf7ad",
     "showTitle": false,
     "tableResultSettingsMap": {},
     "title": ""
    }
   },
   "outputs": [
    {
     "output_type": "stream",
     "name": "stdout",
     "output_type": "stream",
     "text": [
      "18\n"
     ]
    }
   ],
   "source": [
    "y = 10\n",
    "x = 8\n",
    "z = x + y\n",
    "print(z)"
   ]
  },
  {
   "cell_type": "code",
   "execution_count": 0,
   "metadata": {
    "application/vnd.databricks.v1+cell": {
     "cellMetadata": {
      "byteLimit": 2048000,
      "rowLimit": 10000
     },
     "inputWidgets": {},
     "nuid": "463854e2-b974-4d9e-a9e0-996bdebfe93b",
     "showTitle": false,
     "tableResultSettingsMap": {},
     "title": ""
    }
   },
   "outputs": [
    {
     "output_type": "stream",
     "name": "stdout",
     "output_type": "stream",
     "text": [
      "Hema\n"
     ]
    }
   ],
   "source": [
    "print (\"Hema\")  #string contain ''/\"\""
   ]
  },
  {
   "cell_type": "code",
   "execution_count": 0,
   "metadata": {
    "application/vnd.databricks.v1+cell": {
     "cellMetadata": {
      "byteLimit": 2048000,
      "rowLimit": 10000
     },
     "inputWidgets": {},
     "nuid": "a4731b08-ba86-44db-b02f-0e19f70e920f",
     "showTitle": false,
     "tableResultSettingsMap": {},
     "title": ""
    }
   },
   "outputs": [
    {
     "output_type": "stream",
     "name": "stdout",
     "output_type": "stream",
     "text": [
      "Arun \nChandran\n"
     ]
    }
   ],
   "source": [
    "print (\"Arun \\nChandran\") # \\n used to insert new line"
   ]
  },
  {
   "cell_type": "code",
   "execution_count": 0,
   "metadata": {
    "application/vnd.databricks.v1+cell": {
     "cellMetadata": {
      "byteLimit": 2048000,
      "rowLimit": 10000
     },
     "inputWidgets": {},
     "nuid": "c8434a6a-8b2e-48b9-a745-2ebd48ede46b",
     "showTitle": false,
     "tableResultSettingsMap": {},
     "title": ""
    }
   },
   "outputs": [
    {
     "output_type": "stream",
     "name": "stdout",
     "output_type": "stream",
     "text": [
      "Arun \tChandran\n"
     ]
    }
   ],
   "source": [
    "print (\"Arun \\tChandran\") #\\t used to insert a new tab"
   ]
  },
  {
   "cell_type": "code",
   "execution_count": 0,
   "metadata": {
    "application/vnd.databricks.v1+cell": {
     "cellMetadata": {
      "byteLimit": 2048000,
      "rowLimit": 10000
     },
     "inputWidgets": {},
     "nuid": "aebe5962-d5eb-40de-a891-485bfa1c765a",
     "showTitle": false,
     "tableResultSettingsMap": {},
     "title": ""
    }
   },
   "outputs": [
    {
     "output_type": "stream",
     "name": "stdout",
     "output_type": "stream",
     "text": [
      "Arun  Chandran\rHello\n"
     ]
    }
   ],
   "source": [
    "print (\"Arun  Chandran\\rHello\") # \\r is used to replace"
   ]
  },
  {
   "cell_type": "code",
   "execution_count": 0,
   "metadata": {
    "application/vnd.databricks.v1+cell": {
     "cellMetadata": {
      "byteLimit": 2048000,
      "rowLimit": 10000
     },
     "inputWidgets": {},
     "nuid": "cea3c16f-18f3-4ec4-b571-08e7b1f23e9b",
     "showTitle": false,
     "tableResultSettingsMap": {},
     "title": ""
    }
   },
   "outputs": [
    {
     "output_type": "stream",
     "name": "stdout",
     "output_type": "stream",
     "text": [
      "['A', 'B', 'C', 'D', 'E']\n"
     ]
    }
   ],
   "source": [
    "list = ['A','B','C','D','E']\n",
    "print(list)"
   ]
  },
  {
   "cell_type": "code",
   "execution_count": 0,
   "metadata": {
    "application/vnd.databricks.v1+cell": {
     "cellMetadata": {
      "byteLimit": 2048000,
      "rowLimit": 10000
     },
     "inputWidgets": {},
     "nuid": "774bef23-ed5b-4e3a-814a-ba234152d20f",
     "showTitle": false,
     "tableResultSettingsMap": {},
     "title": ""
    }
   },
   "outputs": [
    {
     "output_type": "stream",
     "name": "stdout",
     "output_type": "stream",
     "text": [
      "['C', 'D', 'E']\n"
     ]
    }
   ],
   "source": [
    "print(list[2:])"
   ]
  },
  {
   "cell_type": "code",
   "execution_count": 0,
   "metadata": {
    "application/vnd.databricks.v1+cell": {
     "cellMetadata": {
      "byteLimit": 2048000,
      "rowLimit": 10000
     },
     "inputWidgets": {},
     "nuid": "dbaaf997-000b-4b28-9556-c75ac1386a65",
     "showTitle": false,
     "tableResultSettingsMap": {},
     "title": ""
    }
   },
   "outputs": [
    {
     "output_type": "stream",
     "name": "stdout",
     "output_type": "stream",
     "text": [
      "['irin', 'B', 'C', 'D', 'E']\n"
     ]
    }
   ],
   "source": [
    "list[0] = 'irin'\n",
    "print(list)"
   ]
  },
  {
   "cell_type": "code",
   "execution_count": 0,
   "metadata": {
    "application/vnd.databricks.v1+cell": {
     "cellMetadata": {},
     "inputWidgets": {},
     "nuid": "6cbfd0e1-92f8-424d-a425-0e82e50dca94",
     "showTitle": false,
     "tableResultSettingsMap": {},
     "title": ""
    }
   },
   "outputs": [],
   "source": [
    "#Set\n",
    "Set is a collection of item which is unored and unindexed\n",
    "set does not allow duplicates\n",
    "in python,Set are written in curly braqckets {1,2,4,7}"
   ]
  },
  {
   "cell_type": "code",
   "execution_count": 0,
   "metadata": {
    "application/vnd.databricks.v1+cell": {
     "cellMetadata": {
      "byteLimit": 2048000,
      "rowLimit": 10000
     },
     "inputWidgets": {},
     "nuid": "6bf65514-2000-47f1-8c7f-10a29090d913",
     "showTitle": false,
     "tableResultSettingsMap": {},
     "title": ""
    }
   },
   "outputs": [
    {
     "output_type": "stream",
     "name": "stdout",
     "output_type": "stream",
     "text": [
      "{0, 65, 1, 20, 5, 54, 8}\n"
     ]
    }
   ],
   "source": [
    "set1 = {65,65,54,20,0,5,5,1,1,1,8,8}\n",
    "print(set1)"
   ]
  },
  {
   "cell_type": "code",
   "execution_count": 0,
   "metadata": {
    "application/vnd.databricks.v1+cell": {
     "cellMetadata": {
      "byteLimit": 2048000,
      "rowLimit": 10000
     },
     "inputWidgets": {},
     "nuid": "02f1d701-2f4a-4962-8750-2096db68a91d",
     "showTitle": false,
     "tableResultSettingsMap": {},
     "title": ""
    }
   },
   "outputs": [
    {
     "output_type": "stream",
     "name": "stdout",
     "output_type": "stream",
     "text": [
      "{0, 65, 1, 5, 8, 20, 54}\n"
     ]
    }
   ],
   "source": [
    "#create a set from list\n",
    "x =[65,65,54,20,0,5,5,1,1,1,8,8]\n",
    "set2 = set(x)\n",
    "print(set2)"
   ]
  },
  {
   "cell_type": "code",
   "execution_count": 0,
   "metadata": {
    "application/vnd.databricks.v1+cell": {
     "cellMetadata": {},
     "inputWidgets": {},
     "nuid": "da3ffe38-6516-4a46-b81c-31d63ad5c33a",
     "showTitle": false,
     "tableResultSettingsMap": {},
     "title": ""
    }
   },
   "outputs": [],
   "source": [
    "# Dictionary\n",
    "# dictionary is a collection of item which is unorders and changeable and indexed\n",
    "# dictionary does not allow duplicate values\n",
    "# in pyhton , Dictionary are written in cruly brackets and they have key and value\n",
    "# {\"Name\": \"Jagan\", \"Age\": 26} "
   ]
  },
  {
   "cell_type": "code",
   "execution_count": 0,
   "metadata": {
    "application/vnd.databricks.v1+cell": {
     "cellMetadata": {
      "byteLimit": 2048000,
      "rowLimit": 10000
     },
     "inputWidgets": {},
     "nuid": "11fafd09-5f66-4159-8265-50021ff652dd",
     "showTitle": false,
     "tableResultSettingsMap": {},
     "title": ""
    }
   },
   "outputs": [
    {
     "output_type": "stream",
     "name": "stdout",
     "output_type": "stream",
     "text": [
      "{1: 'Geeks', 2: 'For', 3: 'Geeks'}\n"
     ]
    }
   ],
   "source": [
    "d = {1: 'Geeks', 2: 'For', 3: 'Geeks'}\n",
    "print(d)"
   ]
  },
  {
   "cell_type": "code",
   "execution_count": 0,
   "metadata": {
    "application/vnd.databricks.v1+cell": {
     "cellMetadata": {
      "byteLimit": 2048000,
      "rowLimit": 10000
     },
     "inputWidgets": {},
     "nuid": "2fd1a8ec-2c0a-4c52-9a7b-ce0869145230",
     "showTitle": false,
     "tableResultSettingsMap": {},
     "title": ""
    }
   },
   "outputs": [
    {
     "output_type": "stream",
     "name": "stdout",
     "output_type": "stream",
     "text": [
      "{'a': 'Geeks', 'b': 'for', 'c': 'Geeks'}\n"
     ]
    }
   ],
   "source": [
    "d2 = dict(a = \"Geeks\", b = \"for\", c = \"Geeks\")\n",
    "print(d2)"
   ]
  },
  {
   "cell_type": "code",
   "execution_count": 0,
   "metadata": {
    "application/vnd.databricks.v1+cell": {
     "cellMetadata": {
      "byteLimit": 2048000,
      "rowLimit": 10000
     },
     "inputWidgets": {},
     "nuid": "f2a9584b-5495-4ead-8b0d-97862d99be83",
     "showTitle": false,
     "tableResultSettingsMap": {},
     "title": ""
    }
   },
   "outputs": [
    {
     "output_type": "stream",
     "name": "stdout",
     "output_type": "stream",
     "text": [
      "for\nGeeks\n"
     ]
    }
   ],
   "source": [
    "# Access using key\n",
    "print(d2[\"b\"])\n",
    "\n",
    "# Access using get()\n",
    "print(d2.get(\"c\"))"
   ]
  },
  {
   "cell_type": "code",
   "execution_count": 0,
   "metadata": {
    "application/vnd.databricks.v1+cell": {
     "cellMetadata": {},
     "inputWidgets": {},
     "nuid": "0ec48b00-bb7e-4380-a7cd-c92d84014080",
     "showTitle": false,
     "tableResultSettingsMap": {},
     "title": ""
    }
   },
   "outputs": [],
   "source": [
    "# https://www.w3schools.com/python/python_operators.asp"
   ]
  },
  {
   "cell_type": "code",
   "execution_count": 0,
   "metadata": {
    "application/vnd.databricks.v1+cell": {
     "cellMetadata": {},
     "inputWidgets": {},
     "nuid": "8ad58b21-3f73-4cb1-a340-3c25ca808a4f",
     "showTitle": false,
     "tableResultSettingsMap": {},
     "title": ""
    }
   },
   "outputs": [],
   "source": [
    "# Arithmetic operations are used with numberic values to perform basic mathematical calculations\n"
   ]
  },
  {
   "cell_type": "code",
   "execution_count": 0,
   "metadata": {
    "application/vnd.databricks.v1+cell": {
     "cellMetadata": {
      "byteLimit": 2048000,
      "rowLimit": 10000
     },
     "inputWidgets": {},
     "nuid": "be29db06-b67d-4373-8a10-8f4256e4101d",
     "showTitle": false,
     "tableResultSettingsMap": {},
     "title": ""
    }
   },
   "outputs": [
    {
     "output_type": "stream",
     "name": "stdout",
     "output_type": "stream",
     "text": [
      "103\n97\n300\n33.333333333333336\n1\n33\n"
     ]
    }
   ],
   "source": [
    "\n",
    "x = 100\n",
    "y = 3\n",
    "a = x + y   # + Addition\n",
    "b = x - y   # - Subtraction\n",
    "c = x * y   # * Multiplication\n",
    "d = x / y   # / Division\n",
    "e = x % y   # % Modulus\n",
    "f = x // y  # // Floor division\n",
    "\n",
    "print (a)\n",
    "print (b)\n",
    "print (c)\n",
    "print(d)\n",
    "print(e)\n",
    "print(f)\n",
    "\n",
    "\n"
   ]
  },
  {
   "cell_type": "code",
   "execution_count": 0,
   "metadata": {
    "application/vnd.databricks.v1+cell": {
     "cellMetadata": {
      "byteLimit": 2048000,
      "rowLimit": 10000
     },
     "inputWidgets": {},
     "nuid": "e99fefee-28cf-4512-8cb4-0f57a67f50ec",
     "showTitle": false,
     "tableResultSettingsMap": {},
     "title": ""
    }
   },
   "outputs": [
    {
     "output_type": "stream",
     "name": "stdout",
     "output_type": "stream",
     "text": [
      "1000000\n0\n103\n103\n12\n800\n"
     ]
    }
   ],
   "source": [
    "f = x ** y # ** Exponentiation\n",
    "g = x & y  # & AND\n",
    "h = x | y  # | OR \n",
    "i = x ^ y  # ^ XOR\n",
    "j = x >> y # >> Zero fill left shift\n",
    "k = x << y # << Signed right shift\t \n",
    "\n",
    "print(f)\n",
    "print(g)\n",
    "print(h)\n",
    "print(i)\n",
    "print(j)\n",
    "print(k)"
   ]
  },
  {
   "cell_type": "code",
   "execution_count": 0,
   "metadata": {
    "application/vnd.databricks.v1+cell": {
     "cellMetadata": {
      "byteLimit": 2048000,
      "rowLimit": 10000
     },
     "inputWidgets": {},
     "nuid": "472d4bbf-501a-45d3-911e-07fff8b7610c",
     "showTitle": false,
     "tableResultSettingsMap": {},
     "title": ""
    }
   },
   "outputs": [
    {
     "output_type": "stream",
     "name": "stdout",
     "output_type": "stream",
     "text": [
      "False\nTrue\nTrue\nFalse\nTrue\nFalse\n"
     ]
    }
   ],
   "source": [
    "a1 = x ==y\n",
    "a2 = x!=y\n",
    "a3 = x > y\n",
    "a4 = x < y\n",
    "a5 = x >= y\n",
    "a6 = x <= y\n",
    "\n",
    "print(a1)\n",
    "print(a2)\n",
    "print(a3)\n",
    "print(a4)\n",
    "print(a5)\n",
    "print(a6)"
   ]
  },
  {
   "cell_type": "code",
   "execution_count": 0,
   "metadata": {
    "application/vnd.databricks.v1+cell": {
     "cellMetadata": {
      "byteLimit": 2048000,
      "rowLimit": 10000
     },
     "inputWidgets": {},
     "nuid": "a2870ab7-ec72-4372-ab17-6dd00e6f8993",
     "showTitle": false,
     "tableResultSettingsMap": {},
     "title": ""
    }
   },
   "outputs": [
    {
     "output_type": "stream",
     "name": "stdout",
     "output_type": "stream",
     "text": [
      "True\nFalse\n"
     ]
    }
   ],
   "source": [
    "b = \"hi hello there\"\n",
    "c = \"hi hello there\"\n",
    "\n",
    "a7  = b in c\n",
    "a8  = b not in c\n",
    "print(a7)\n",
    "print(a8)"
   ]
  },
  {
   "cell_type": "markdown",
   "metadata": {
    "application/vnd.databricks.v1+cell": {
     "cellMetadata": {},
     "inputWidgets": {},
     "nuid": "e47a803b-cd46-499a-895f-fa3cd98d179f",
     "showTitle": false,
     "tableResultSettingsMap": {},
     "title": ""
    }
   },
   "source": [
    "Data Types"
   ]
  },
  {
   "cell_type": "code",
   "execution_count": 0,
   "metadata": {
    "application/vnd.databricks.v1+cell": {
     "cellMetadata": {
      "byteLimit": 2048000,
      "rowLimit": 10000
     },
     "inputWidgets": {},
     "nuid": "e1988f02-df8e-45cf-b56f-bb9aad039847",
     "showTitle": false,
     "tableResultSettingsMap": {},
     "title": ""
    }
   },
   "outputs": [
    {
     "output_type": "stream",
     "name": "stdout",
     "output_type": "stream",
     "text": [
      "<class 'int'>\n<class 'str'>\n<class 'list'>\n<class 'int'>\n<class 'float'>\n<class 'complex'>\n<class 'str'>\nthilak\n<class 'str'>\n hello\n    Manisha \n"
     ]
    }
   ],
   "source": [
    "x = 2\n",
    "y = 'Arun'\n",
    "z = [1,2,3]\n",
    "a = -12\n",
    "b = 10.4\n",
    "c = 8 +2j\n",
    "d = \"thilak\"\n",
    "e = ''' hello\n",
    "    Manisha '''\n",
    "\n",
    "print(type(x))\n",
    "print(type(y))\n",
    "print(type(z))\n",
    "print(type(a))\n",
    "print(type(b))\n",
    "print(type(c))\n",
    "print(type(d))\n",
    "print(d)\n",
    "print(type(e))\n",
    "print(e)\n"
   ]
  },
  {
   "cell_type": "code",
   "execution_count": 0,
   "metadata": {
    "application/vnd.databricks.v1+cell": {
     "cellMetadata": {},
     "inputWidgets": {},
     "nuid": "d3fa33e1-74ac-40db-bffe-6f4a00c895fb",
     "showTitle": false,
     "tableResultSettingsMap": {},
     "title": ""
    }
   },
   "outputs": [],
   "source": [
    "Numeric:\n",
    "\tInteger\n",
    "\tFloat\n",
    "\tComplex\n",
    "\n",
    "#Integer:\n",
    "\tinteger value can be any length such as integers 1,20,30,-10,-100,etc\n",
    "\tPython has no restriction on the length of an interger\n",
    "\n",
    "#Float:\n",
    "\tFloat is used to store floating-point number like1.2,8.902,16.2 etc\n",
    "\tit is accurate up to 15 decimal points\n",
    "\n",
    "#Complex:\n",
    "\tA complex number is a number that consists of real and imaginary parts. For example, 2 + 3j is a complex number where 2 is the real component, and 3 multiplied by j is an imaginary part\n",
    "\n",
    "\n",
    "Sequence:\n",
    "\tString\n",
    "\tList\n",
    "\tTuple\n",
    "\n",
    "\n",
    "# string:\n",
    "\tthe string can be defined  as the sequence of charactersrepresented in the quotation marks.\n",
    "\tin python , we can use single,double or triple quotation to define string like \"\"Python\" ,'Python'\n",
    "\n",
    "\n",
    "\n",
    "# List\n",
    "* List is a collection of items which is ordered and changeable(mutable)\n",
    "* List can contain duplicate items.\n",
    "* List allows multiple data types\n",
    "list are written in square brackets .ex[\"Hema\",\"Chandaran\",\"Arun\",\"Mohamed\"],[1,'string',3,'int']\n",
    "  0      1             2     3 \n",
    "*Accessing items in List can be done directly using their position (index), starting from 0\n",
    "\n",
    "\n",
    "#Tuples\n",
    "Tuple is a collation of items which is ordered and unchangeable(immutable)\n",
    "Tuple allows multiple data types\n",
    "tuples allows duplicate values\n",
    "in python tuples are written in round bracked(\"Hema\",\"Chandaran\",\"Arun\",\"Mohamed\"),(1,'string',3,'int')\n",
    "\n",
    "\n",
    "# Spark is an open-source  cluster computing framework\n",
    "# spark uses in-memory and parallel processing increasing the speed by 100x in memory and 10x in disc\n",
    "# suitable for ML algotithms and as it allows programs to load and query data repeatedly\n",
    "\n",
    "# Support various languages like java,python,scala,R\n",
    "# spark is fault tolerant as it follows lazy evalution model\n",
    "# spark support real time processing\n",
    "# Spark Architectyure follows as master and Slave concept where Driver node asct as Master and Worker node asct as slave\n",
    "\n",
    "\n",
    "\n",
    "#similarities b/w RDD, DataFrame,Datasets\n",
    "\n",
    "supports processing of structured and unstructured data\n",
    "Data is distributed in nature,Incoming data is distributed into multiple nodes\n",
    "in-memory parrel processing\n",
    "immutable\n",
    "lazy Evaluation\n",
    "internally processing as RDDs\n",
    "Supports formats file like text file,csv,json,parqute and data source like RDBMS,HDFS,NOSQL DB\n",
    "\n",
    "\n",
    "# https://phoenixnap.com/kb/rdd-vs-dataframe-vs-dataset\n"
   ]
  }
 ],
 "metadata": {
  "application/vnd.databricks.v1+notebook": {
   "computePreferences": null,
   "dashboards": [],
   "environmentMetadata": {
    "base_environment": "",
    "environment_version": "1"
   },
   "inputWidgetPreferences": null,
   "language": "python",
   "notebookMetadata": {
    "pythonIndentUnit": 4
   },
   "notebookName": "Untitled Notebook 2025-07-05 14:14:22",
   "widgets": {}
  }
 },
 "nbformat": 4,
 "nbformat_minor": 0
}